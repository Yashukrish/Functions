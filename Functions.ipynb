{
  "nbformat": 4,
  "nbformat_minor": 0,
  "metadata": {
    "colab": {
      "provenance": []
    },
    "kernelspec": {
      "name": "python3",
      "display_name": "Python 3"
    },
    "language_info": {
      "name": "python"
    }
  },
  "cells": [
    {
      "cell_type": "code",
      "execution_count": null,
      "metadata": {
        "id": "QxoaZzrtN2AC"
      },
      "outputs": [],
      "source": []
    },
    {
      "cell_type": "markdown",
      "source": [
        "1) What is the difference between a function and a method in Python ?\n",
        "\n",
        "    -> Function: A function is a block of code that is independent and can be\n",
        "    called anywhere in the program. It is defined using the def keyword\n",
        "    Method: Method: A method is essentially a function that is associated with an object and called on that object. Methods are defined inside a class and usually operate on instance data.\n",
        "\n",
        "2)  Explain the concept of function arguments and parameters in Python ?\n",
        "\n",
        "    -> **Parameters** are variables listed in a function definition. They act as placeholders for values that a function expects when called .\n",
        "    **Arguments** are the actual values passed to a function when calling it. These values replace the parameters. They are few arguments which can be used in Python, Positional arguments , Keyword arguments , Default arguments & Variable length arguments.\n",
        "\n",
        "3)  What are the different ways to define and call a function in Python?\n",
        "\n",
        "    -> You can define and Call functions in multiple ways, depending on the need of programs.\n",
        "\n",
        "    **Standard Function Definition** :- the most common way to define the function by using DEF keyword.\n",
        "\n",
        "    **Function with Default Parameters** :- You can set default values for parameters so they don’t require an argument when called.\n",
        "\n",
        "    **Function with Variable-Length Arguments** :- ython allows passing multiple arguments using *args and **kwargs:\n",
        "\n",
        "    **Lambda Functions** :- Lambda functions are single-expression functions that don’t require a def statement.\n",
        "\n",
        "4) What is the purpose of the `return` statement in a Python function ?\n",
        "\n",
        "    -> The return statement in Python serves a crucial role in functions—it determines what the function sends back as output when it completes execution.\n"
      ],
      "metadata": {
        "id": "jOazlNhEN5b9"
      }
    },
    {
      "cell_type": "code",
      "source": [
        "def square(num):\n",
        "    return num * num\n",
        "result = square(4)\n",
        "\n",
        "print(result)\n"
      ],
      "metadata": {
        "colab": {
          "base_uri": "https://localhost:8080/"
        },
        "id": "HWKTP58zQ-19",
        "outputId": "b240b2ff-e435-436e-9ef7-910e33312170"
      },
      "execution_count": 4,
      "outputs": [
        {
          "output_type": "stream",
          "name": "stdout",
          "text": [
            "16\n"
          ]
        }
      ]
    },
    {
      "cell_type": "markdown",
      "source": [
        "5)  What are iterators in Python and how do they differ from iterables ?\n",
        "\n",
        "    -> In Python, iterators and iterables are fundamental concepts for handling sequences of data efficiently.\n",
        "    **Iterable** is any object capable of returning its elements one at a time. It includes built-in collections like lists, tuples, dictionaries, and sets, as well as custom iterable objects.\n",
        "    **Iterator** is an object that allows traversal through an iterable, maintaining its state as it progresses.\n",
        "\n",
        "6)  Explain the concept of generators in Python and how they are defined.\n",
        "\n",
        "    -> Generators in Python are a special type of iterable that allows for lazy evaluation, meaning they generate values on the fly instead of storing them all in memory at once. This makes them highly efficient for working with large datasets.\n",
        "    **Generators** are defined using functions with the yield statement instead of return. When a function contains yield.\n",
        "\n",
        "7)  What are the advantages of using generators over regular functions.\n",
        "\n",
        "    -> Generators offer several advantages over regular functions, especially when dealing with large datasets and complex computations. Memory efficency , Faster Execution,infinite sequences & it simplifies the code.\n",
        "\n",
        "8)  What is a lambda function in Python and when is it typically used?\n",
        "\n",
        "    -> A lambda function in Python is an anonymous (unnamed) function defined using the lambda keyword. It is mainly used for short, one-time-use functions where defining a full function with def.\n",
        "    **Syntax** :- Lambda arguments : Expression\n",
        "\n",
        "9) Explain the purpose and usage of the `map()` function in Python\n",
        "\n",
        "    -> The map() function in Python is a built-in higher-order function that applies a given function to all items in an iterable (like a list or tuple). It’s especially useful when you need to transform a collection of data without using explicit loops.\n",
        "    **Syntax** :- map(function, iterable)\n",
        "\n",
        "10) What is the difference between `map()`, `reduce()`, and `filter()` functions in Python?\n",
        "\n",
        "    -> Map() :- this function applies a given function to each item in an iterable and returns a new iterable\n",
        "    **filter()** :- function applies a function that returns True or False for each item, keeping only those that satisfy the condition.\n",
        "    **reduce()** :- function repeatedly applies a function to pairs of elements, reducing them into a single result\n"
      ],
      "metadata": {
        "id": "XVOEO2ybRuwY"
      }
    },
    {
      "cell_type": "code",
      "source": [
        "from functools import reduce\n",
        "\n",
        "numbers = [47, 11, 42, 13]\n",
        "sum_result = reduce(lambda x, y: x + y, numbers)\n",
        "\n",
        "print(sum_result)\n",
        "\n",
        "# At each step, reduce() applies the lambda function (x + y) to two elements at a time\n",
        "   # First Iteration: 47 + 11 = 58\n",
        "   # Second Iteration: 58 + 42 = 100\n",
        "   # Third Iteration: 100 + 13 = 113\n",
        "\n"
      ],
      "metadata": {
        "colab": {
          "base_uri": "https://localhost:8080/"
        },
        "id": "VE_X6ad5Vhk5",
        "outputId": "7fb0e450-ed4f-4c65-cdd3-3ada60bd15fe"
      },
      "execution_count": 5,
      "outputs": [
        {
          "output_type": "stream",
          "name": "stdout",
          "text": [
            "113\n"
          ]
        }
      ]
    },
    {
      "cell_type": "code",
      "source": [
        "#  Write a Python function that takes a list of numbers as input and returns the sum of all even numbers in the list\n",
        "\n",
        "def sum_even_numbers(numbers):\n",
        "    return sum(num for num in numbers if num % 2 == 0)\n",
        "numbers = [1, 2, 3, 4, 5, 6]\n",
        "print(sum_even_numbers(numbers))"
      ],
      "metadata": {
        "colab": {
          "base_uri": "https://localhost:8080/"
        },
        "id": "5QHCi5fMWYqV",
        "outputId": "affa21c7-2d5a-4aa5-f374-641caf24112c"
      },
      "execution_count": 6,
      "outputs": [
        {
          "output_type": "stream",
          "name": "stdout",
          "text": [
            "12\n"
          ]
        }
      ]
    },
    {
      "cell_type": "code",
      "source": [
        "#  Create a Python function that accepts a string and returns the reverse of that string\n",
        "\n",
        "def reverse_string(s):\n",
        "    return s[::-1]\n",
        "text = \"Hello, world!\"\n",
        "print(reverse_string(text))"
      ],
      "metadata": {
        "colab": {
          "base_uri": "https://localhost:8080/"
        },
        "id": "-LjYzPe2Wquz",
        "outputId": "0866d3ca-191f-41d2-ccae-418c8a3accee"
      },
      "execution_count": 7,
      "outputs": [
        {
          "output_type": "stream",
          "name": "stdout",
          "text": [
            "!dlrow ,olleH\n"
          ]
        }
      ]
    },
    {
      "cell_type": "code",
      "source": [
        "# Implement a Python function that takes a list of integers and returns a new list containing the squares of each number\n",
        "\n",
        "def square_numbers(numbers):\n",
        "    return [num ** 2 for num in numbers]\n",
        "numbers = [1, 2, 3, 4, 5]\n",
        "print(square_numbers(numbers))"
      ],
      "metadata": {
        "colab": {
          "base_uri": "https://localhost:8080/"
        },
        "id": "SNU0xkLWW2a1",
        "outputId": "aac71c8a-c83e-4faa-8b85-ceedcbc90901"
      },
      "execution_count": 8,
      "outputs": [
        {
          "output_type": "stream",
          "name": "stdout",
          "text": [
            "[1, 4, 9, 16, 25]\n"
          ]
        }
      ]
    },
    {
      "cell_type": "code",
      "source": [
        "# Write a Python function that checks if a given number is prime or not from 1 to 200\n",
        "\n",
        "def is_prime(n):\n",
        "    if n < 2:\n",
        "        return False\n",
        "    for i in range(2, int(n ** 0.5) + 1):\n",
        "        if n % i == 0:\n",
        "            return False\n",
        "    return True\n",
        "for num in range(1, 201):\n",
        "    print(f\"{num} is prime: {is_prime(num)}\")\n"
      ],
      "metadata": {
        "colab": {
          "base_uri": "https://localhost:8080/"
        },
        "id": "sL2HbRgmXFZ8",
        "outputId": "6979855d-5bdb-4864-fd9c-4b60168032dd"
      },
      "execution_count": 9,
      "outputs": [
        {
          "output_type": "stream",
          "name": "stdout",
          "text": [
            "1 is prime: False\n",
            "2 is prime: True\n",
            "3 is prime: True\n",
            "4 is prime: False\n",
            "5 is prime: True\n",
            "6 is prime: False\n",
            "7 is prime: True\n",
            "8 is prime: False\n",
            "9 is prime: False\n",
            "10 is prime: False\n",
            "11 is prime: True\n",
            "12 is prime: False\n",
            "13 is prime: True\n",
            "14 is prime: False\n",
            "15 is prime: False\n",
            "16 is prime: False\n",
            "17 is prime: True\n",
            "18 is prime: False\n",
            "19 is prime: True\n",
            "20 is prime: False\n",
            "21 is prime: False\n",
            "22 is prime: False\n",
            "23 is prime: True\n",
            "24 is prime: False\n",
            "25 is prime: False\n",
            "26 is prime: False\n",
            "27 is prime: False\n",
            "28 is prime: False\n",
            "29 is prime: True\n",
            "30 is prime: False\n",
            "31 is prime: True\n",
            "32 is prime: False\n",
            "33 is prime: False\n",
            "34 is prime: False\n",
            "35 is prime: False\n",
            "36 is prime: False\n",
            "37 is prime: True\n",
            "38 is prime: False\n",
            "39 is prime: False\n",
            "40 is prime: False\n",
            "41 is prime: True\n",
            "42 is prime: False\n",
            "43 is prime: True\n",
            "44 is prime: False\n",
            "45 is prime: False\n",
            "46 is prime: False\n",
            "47 is prime: True\n",
            "48 is prime: False\n",
            "49 is prime: False\n",
            "50 is prime: False\n",
            "51 is prime: False\n",
            "52 is prime: False\n",
            "53 is prime: True\n",
            "54 is prime: False\n",
            "55 is prime: False\n",
            "56 is prime: False\n",
            "57 is prime: False\n",
            "58 is prime: False\n",
            "59 is prime: True\n",
            "60 is prime: False\n",
            "61 is prime: True\n",
            "62 is prime: False\n",
            "63 is prime: False\n",
            "64 is prime: False\n",
            "65 is prime: False\n",
            "66 is prime: False\n",
            "67 is prime: True\n",
            "68 is prime: False\n",
            "69 is prime: False\n",
            "70 is prime: False\n",
            "71 is prime: True\n",
            "72 is prime: False\n",
            "73 is prime: True\n",
            "74 is prime: False\n",
            "75 is prime: False\n",
            "76 is prime: False\n",
            "77 is prime: False\n",
            "78 is prime: False\n",
            "79 is prime: True\n",
            "80 is prime: False\n",
            "81 is prime: False\n",
            "82 is prime: False\n",
            "83 is prime: True\n",
            "84 is prime: False\n",
            "85 is prime: False\n",
            "86 is prime: False\n",
            "87 is prime: False\n",
            "88 is prime: False\n",
            "89 is prime: True\n",
            "90 is prime: False\n",
            "91 is prime: False\n",
            "92 is prime: False\n",
            "93 is prime: False\n",
            "94 is prime: False\n",
            "95 is prime: False\n",
            "96 is prime: False\n",
            "97 is prime: True\n",
            "98 is prime: False\n",
            "99 is prime: False\n",
            "100 is prime: False\n",
            "101 is prime: True\n",
            "102 is prime: False\n",
            "103 is prime: True\n",
            "104 is prime: False\n",
            "105 is prime: False\n",
            "106 is prime: False\n",
            "107 is prime: True\n",
            "108 is prime: False\n",
            "109 is prime: True\n",
            "110 is prime: False\n",
            "111 is prime: False\n",
            "112 is prime: False\n",
            "113 is prime: True\n",
            "114 is prime: False\n",
            "115 is prime: False\n",
            "116 is prime: False\n",
            "117 is prime: False\n",
            "118 is prime: False\n",
            "119 is prime: False\n",
            "120 is prime: False\n",
            "121 is prime: False\n",
            "122 is prime: False\n",
            "123 is prime: False\n",
            "124 is prime: False\n",
            "125 is prime: False\n",
            "126 is prime: False\n",
            "127 is prime: True\n",
            "128 is prime: False\n",
            "129 is prime: False\n",
            "130 is prime: False\n",
            "131 is prime: True\n",
            "132 is prime: False\n",
            "133 is prime: False\n",
            "134 is prime: False\n",
            "135 is prime: False\n",
            "136 is prime: False\n",
            "137 is prime: True\n",
            "138 is prime: False\n",
            "139 is prime: True\n",
            "140 is prime: False\n",
            "141 is prime: False\n",
            "142 is prime: False\n",
            "143 is prime: False\n",
            "144 is prime: False\n",
            "145 is prime: False\n",
            "146 is prime: False\n",
            "147 is prime: False\n",
            "148 is prime: False\n",
            "149 is prime: True\n",
            "150 is prime: False\n",
            "151 is prime: True\n",
            "152 is prime: False\n",
            "153 is prime: False\n",
            "154 is prime: False\n",
            "155 is prime: False\n",
            "156 is prime: False\n",
            "157 is prime: True\n",
            "158 is prime: False\n",
            "159 is prime: False\n",
            "160 is prime: False\n",
            "161 is prime: False\n",
            "162 is prime: False\n",
            "163 is prime: True\n",
            "164 is prime: False\n",
            "165 is prime: False\n",
            "166 is prime: False\n",
            "167 is prime: True\n",
            "168 is prime: False\n",
            "169 is prime: False\n",
            "170 is prime: False\n",
            "171 is prime: False\n",
            "172 is prime: False\n",
            "173 is prime: True\n",
            "174 is prime: False\n",
            "175 is prime: False\n",
            "176 is prime: False\n",
            "177 is prime: False\n",
            "178 is prime: False\n",
            "179 is prime: True\n",
            "180 is prime: False\n",
            "181 is prime: True\n",
            "182 is prime: False\n",
            "183 is prime: False\n",
            "184 is prime: False\n",
            "185 is prime: False\n",
            "186 is prime: False\n",
            "187 is prime: False\n",
            "188 is prime: False\n",
            "189 is prime: False\n",
            "190 is prime: False\n",
            "191 is prime: True\n",
            "192 is prime: False\n",
            "193 is prime: True\n",
            "194 is prime: False\n",
            "195 is prime: False\n",
            "196 is prime: False\n",
            "197 is prime: True\n",
            "198 is prime: False\n",
            "199 is prime: True\n",
            "200 is prime: False\n"
          ]
        }
      ]
    },
    {
      "cell_type": "code",
      "source": [
        "#  Create an iterator class in Python that generates the Fibonacci sequence up to a specified number of terms.\n",
        "\n",
        "class FibonacciIterator:\n",
        "    def __init__(self, n_terms):\n",
        "        self.n_terms = n_terms\n",
        "        self.current = 0\n",
        "        self.next = 1\n",
        "        self.count = 0\n",
        "\n",
        "    def __iter__(self):\n",
        "        return self\n",
        "\n",
        "    def __next__(self):\n",
        "        if self.count >= self.n_terms:\n",
        "            raise StopIteration\n",
        "        value = self.current\n",
        "        self.current, self.next = self.next, self.current + self.next\n",
        "        self.count += 1\n",
        "        return value\n",
        "fib_iter = FibonacciIterator(10)\n",
        "for num in fib_iter:\n",
        "  print(num)"
      ],
      "metadata": {
        "colab": {
          "base_uri": "https://localhost:8080/"
        },
        "id": "CbfmYiPYXU_w",
        "outputId": "c9a5679e-4c21-47c3-d7bb-d08c3f8774d4"
      },
      "execution_count": 11,
      "outputs": [
        {
          "output_type": "stream",
          "name": "stdout",
          "text": [
            "0\n",
            "1\n",
            "1\n",
            "2\n",
            "3\n",
            "5\n",
            "8\n",
            "13\n",
            "21\n",
            "34\n"
          ]
        }
      ]
    },
    {
      "cell_type": "code",
      "source": [
        "#  Write a generator function in Python that yields the powers of 2 up to a given exponent\n",
        "\n",
        "def powers_of_two(max_exponent):\n",
        "    for exponent in range(max_exponent + 1):\n",
        "        yield 2 ** exponent\n",
        "for power in powers_of_two(5):\n",
        "    print(power)"
      ],
      "metadata": {
        "colab": {
          "base_uri": "https://localhost:8080/"
        },
        "id": "-7p0hZtnX0CU",
        "outputId": "06b2ae2b-dc1f-471b-c206-21d920e026b9"
      },
      "execution_count": 12,
      "outputs": [
        {
          "output_type": "stream",
          "name": "stdout",
          "text": [
            "1\n",
            "2\n",
            "4\n",
            "8\n",
            "16\n",
            "32\n"
          ]
        }
      ]
    },
    {
      "cell_type": "code",
      "source": [
        "# Implement a generator function that reads a file line by line and yields each line as a string\n",
        "\n",
        "def read_file_generator(file_path):\n",
        "    with open(file_path, 'r', encoding='utf-8') as file:\n",
        "        for line in file:\n",
        "            yield line.strip()\n",
        "\n",
        "for line in read_file_generator(file_path):\n",
        "    print(line)\n",
        "# Can you please expalin when it shows an error"
      ],
      "metadata": {
        "colab": {
          "base_uri": "https://localhost:8080/",
          "height": 193
        },
        "id": "vqPNu_SSb0ZA",
        "outputId": "e6a2f1a2-b99a-417b-9a50-c24f62422d13"
      },
      "execution_count": 49,
      "outputs": [
        {
          "output_type": "error",
          "ename": "NameError",
          "evalue": "name 'file_path' is not defined",
          "traceback": [
            "\u001b[0;31m---------------------------------------------------------------------------\u001b[0m",
            "\u001b[0;31mNameError\u001b[0m                                 Traceback (most recent call last)",
            "\u001b[0;32m<ipython-input-49-00ab70469dbb>\u001b[0m in \u001b[0;36m<cell line: 0>\u001b[0;34m()\u001b[0m\n\u001b[1;32m      6\u001b[0m             \u001b[0;32myield\u001b[0m \u001b[0mline\u001b[0m\u001b[0;34m.\u001b[0m\u001b[0mstrip\u001b[0m\u001b[0;34m(\u001b[0m\u001b[0;34m)\u001b[0m\u001b[0;34m\u001b[0m\u001b[0;34m\u001b[0m\u001b[0m\n\u001b[1;32m      7\u001b[0m \u001b[0;34m\u001b[0m\u001b[0m\n\u001b[0;32m----> 8\u001b[0;31m \u001b[0;32mfor\u001b[0m \u001b[0mline\u001b[0m \u001b[0;32min\u001b[0m \u001b[0mread_file_generator\u001b[0m\u001b[0;34m(\u001b[0m\u001b[0mfile_path\u001b[0m\u001b[0;34m)\u001b[0m\u001b[0;34m:\u001b[0m\u001b[0;34m\u001b[0m\u001b[0;34m\u001b[0m\u001b[0m\n\u001b[0m\u001b[1;32m      9\u001b[0m     \u001b[0mprint\u001b[0m\u001b[0;34m(\u001b[0m\u001b[0mline\u001b[0m\u001b[0;34m)\u001b[0m\u001b[0;34m\u001b[0m\u001b[0;34m\u001b[0m\u001b[0m\n",
            "\u001b[0;31mNameError\u001b[0m: name 'file_path' is not defined"
          ]
        }
      ]
    },
    {
      "cell_type": "code",
      "source": [
        "# Use a lambda function in Python to sort a list of tuples based on the second element of each tuple.\n",
        "\n",
        "data = [(1, 5), (3, 2), (4, 9), (2, 1)]\n",
        "sorted_data = sorted(data, key=lambda x: x[1])\n",
        "\n",
        "print(sorted_data)"
      ],
      "metadata": {
        "colab": {
          "base_uri": "https://localhost:8080/"
        },
        "id": "-UA4X5qbeHM0",
        "outputId": "15da374b-4fe9-4bec-fe44-09da70be48b0"
      },
      "execution_count": 50,
      "outputs": [
        {
          "output_type": "stream",
          "name": "stdout",
          "text": [
            "[(2, 1), (3, 2), (1, 5), (4, 9)]\n"
          ]
        }
      ]
    },
    {
      "cell_type": "code",
      "source": [
        "# Write a Python program that uses `map()` to convert a list of temperatures from Celsius to Fahrenheit\n",
        "\n",
        "def celsius_to_fahrenheit(celsius):\n",
        "    return (celsius * 9/5) + 32\n",
        "celsius_temperatures = [0, 20, 37, 100]\n",
        "fahrenheit_temperatures = list(map(celsius_to_fahrenheit, celsius_temperatures))\n",
        "\n",
        "print(fahrenheit_temperatures)"
      ],
      "metadata": {
        "colab": {
          "base_uri": "https://localhost:8080/"
        },
        "id": "El1PT2IweQ-B",
        "outputId": "97b89611-f0b9-46e3-91a8-a22933f09392"
      },
      "execution_count": 51,
      "outputs": [
        {
          "output_type": "stream",
          "name": "stdout",
          "text": [
            "[32.0, 68.0, 98.6, 212.0]\n"
          ]
        }
      ]
    },
    {
      "cell_type": "code",
      "source": [
        "# Create a Python program that uses `filter()` to remove all the vowels from a given string.\n",
        "\n",
        "def remove_vowels(text):\n",
        "    vowels = \"aeiouAEIOU\"\n",
        "    return \"\".join(filter(lambda char: char not in vowels, text))\n",
        "\n",
        "input_text = \"Hello, World!\"\n",
        "output_text = remove_vowels(input_text)\n",
        "print(output_text)"
      ],
      "metadata": {
        "colab": {
          "base_uri": "https://localhost:8080/"
        },
        "id": "Gy9hyhufefdI",
        "outputId": "7ac2d540-3117-4b53-c086-3bf531b056d0"
      },
      "execution_count": 52,
      "outputs": [
        {
          "output_type": "stream",
          "name": "stdout",
          "text": [
            "Hll, Wrld!\n"
          ]
        }
      ]
    },
    {
      "cell_type": "code",
      "source": [
        "#  Write a Python program, which returns a list with 2-tuples. Each tuple consists of the order number and the product of the price per item and the quantity. The product should be increased by 10, if the value of the order is smaller than 100,00.  Write a Python program using lambda and map\n",
        "\n",
        "\n",
        "orders = [\n",
        "    (34587, \"Learning Python, Mark Lutz\", 4, 40.95),\n",
        "    (98762, \"Programming Python, Mark Lutz\", 5, 56.80),\n",
        "    (77226, \"Head First Python, Paul Barry\", 3, 32.95),\n",
        "    (88112, \"Einführung in Python3, Bernd Klein\", 3, 24.99)\n",
        "]\n",
        "\n",
        "order_totals = list(map(lambda order: (order[0], order[2] * order[3] + (10 if order[2] * order[3] < 100 else 0)), orders))\n",
        "\n",
        "print(order_totals)\n",
        "\n",
        "\n"
      ],
      "metadata": {
        "colab": {
          "base_uri": "https://localhost:8080/"
        },
        "id": "LsIIfSsKesRX",
        "outputId": "751ab3c8-64aa-44da-c182-18bcee215229"
      },
      "execution_count": 59,
      "outputs": [
        {
          "output_type": "stream",
          "name": "stdout",
          "text": [
            "[(34587, 163.8), (98762, 284.0), (77226, 108.85000000000001), (88112, 84.97)]\n"
          ]
        }
      ]
    }
  ]
}